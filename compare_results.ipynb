{
 "cells": [
  {
   "cell_type": "markdown",
   "metadata": {
    "id": "jGNEQ8Cd5F1I"
   },
   "source": [
    "<h1><u> Imports</h1></u>"
   ]
  },
  {
   "cell_type": "code",
   "execution_count": 1,
   "metadata": {
    "id": "nIxZ3S3V5O46"
   },
   "outputs": [],
   "source": [
    "# Import necessary libraries\n",
    "import requests\n",
    "import json\n",
    "import numpy as np"
   ]
  },
  {
   "cell_type": "markdown",
   "metadata": {
    "id": "Vikqc4iV5QuA"
   },
   "source": [
    "<h1><u> CIs' Avergae Length </h1></u>"
   ]
  },
  {
   "cell_type": "code",
   "execution_count": 2,
   "metadata": {
    "id": "umNMKmkd6zND"
   },
   "outputs": [],
   "source": [
    "def read_json_file(file_path):\n",
    "    \"\"\"\n",
    "    This function reads a JSON file from the specified file path and returns its contents.\n",
    "\n",
    "    :param file_path: str, path to the local JSON file.\n",
    "    :return: dict, contents of the JSON file.\n",
    "    \"\"\"\n",
    "    with open(file_path, 'r') as f:\n",
    "        data = json.load(f)\n",
    "    return data\n"
   ]
  },
  {
   "cell_type": "code",
   "execution_count": 3,
   "metadata": {
    "id": "iMzbkp154l55"
   },
   "outputs": [],
   "source": [
    "def calculate_confidence_interval_stats_from_file(file_path):\n",
    "    \"\"\"\n",
    "    This function reads a local JSON file, extracts the confidence intervals,\n",
    "    and calculates the average length and standard deviation of the confidence intervals.\n",
    "\n",
    "    :param file_path: str, path to the local JSON file.\n",
    "    :return: tuple, (average length, standard deviation of the confidence intervals).\n",
    "    \"\"\"\n",
    "    # Step 1: Load the JSON data from the local file\n",
    "    data = read_json_file(file_path)\n",
    "\n",
    "\n",
    "    # Step 2: Extract confidence intervals\n",
    "    conf_intervals = []\n",
    "\n",
    "    # Traverse through the JSON structure to extract intervals\n",
    "    for key, value in data.items():\n",
    "        for subkey, interval in value.items():\n",
    "            if isinstance(interval, list) and len(interval) == 2:\n",
    "                # Calculate the length of each confidence interval\n",
    "                conf_intervals.append(interval[1] - interval[0])\n",
    "\n",
    "    # Step 3: Calculate the average and standard deviation of the confidence intervals' lengths\n",
    "    if conf_intervals:  # Ensure there are confidence intervals to process\n",
    "        average_length = np.mean(conf_intervals)\n",
    "        std_deviation = np.std(conf_intervals)\n",
    "        return average_length, std_deviation\n",
    "    else:\n",
    "        return None, None  # If no valid intervals were found\n",
    "\n"
   ]
  },
  {
   "cell_type": "code",
   "execution_count": null,
   "metadata": {
    "colab": {
     "base_uri": "https://localhost:8080/"
    },
    "id": "L_ElZypB5nlh",
    "outputId": "2b6f3aa8-4ea3-4f42-9686-e8880c60eddc"
   },
   "outputs": [
    {
     "name": "stdout",
     "output_type": "stream",
     "text": [
      "Average length of the confidence intervals: 0.07702583316533217\n",
      "Standard deviation of the confidence intervals' lengths: 0.012979706937343786\n"
     ]
    }
   ],
   "source": [
    "# Example usage:\n",
    "file_path = 'cate_results/cate_conf_intervals_prop.json'  # Replace with the URL of your JSON file\n",
    "average_length, std_deviation = calculate_confidence_interval_stats_from_file(file_path)\n",
    "\n",
    "if average_length is not None:\n",
    "    print(f\"Average length of the confidence intervals: {average_length}\")\n",
    "    print(f\"Standard deviation of the confidence intervals' lengths: {std_deviation}\")\n",
    "else:\n",
    "    print(\"No valid confidence intervals found in the JSON file.\")"
   ]
  },
  {
   "cell_type": "code",
   "execution_count": null,
   "metadata": {
    "colab": {
     "base_uri": "https://localhost:8080/"
    },
    "id": "V9U1AAV3GfSw",
    "outputId": "adb5848f-ab56-49c0-f64b-9f841ce899ed"
   },
   "outputs": [
    {
     "name": "stdout",
     "output_type": "stream",
     "text": [
      "Average length of the confidence intervals: 0.07734774272495736\n",
      "Standard deviation of the confidence intervals' lengths: 0.014298121237266878\n"
     ]
    }
   ],
   "source": [
    "# Example usage:\n",
    "file_path = 'cate_results/cate_conf_intervals_1nn.json'  # Replace with the URL of your JSON file\n",
    "average_length, std_deviation = calculate_confidence_interval_stats_from_file(file_path)\n",
    "\n",
    "if average_length is not None:\n",
    "    print(f\"Average length of the confidence intervals: {average_length}\")\n",
    "    print(f\"Standard deviation of the confidence intervals' lengths: {std_deviation}\")\n",
    "else:\n",
    "    print(\"No valid confidence intervals found in the JSON file.\")"
   ]
  },
  {
   "cell_type": "code",
   "execution_count": null,
   "metadata": {
    "colab": {
     "base_uri": "https://localhost:8080/"
    },
    "id": "ECmGVRiXGsLo",
    "outputId": "09a7ba1b-5ec9-41bb-81d2-7d271e887246"
   },
   "outputs": [
    {
     "name": "stdout",
     "output_type": "stream",
     "text": [
      "Average length of the confidence intervals: 0.08707736782559115\n",
      "Standard deviation of the confidence intervals' lengths: 0.01646581619277609\n"
     ]
    }
   ],
   "source": [
    "# Example usage:\n",
    "file_path = 'cate_results/cate_conf_intervals_3nn.json'  # Replace with the URL of your JSON file\n",
    "average_length, std_deviation = calculate_confidence_interval_stats_from_file(file_path)\n",
    "\n",
    "if average_length is not None:\n",
    "    print(f\"Average length of the confidence intervals: {average_length}\")\n",
    "    print(f\"Standard deviation of the confidence intervals' lengths: {std_deviation}\")\n",
    "else:\n",
    "    print(\"No valid confidence intervals found in the JSON file.\")"
   ]
  },
  {
   "cell_type": "code",
   "execution_count": null,
   "metadata": {
    "colab": {
     "base_uri": "https://localhost:8080/"
    },
    "id": "eTs23AJ3Gt4F",
    "outputId": "8ec94c05-e429-4fca-8f65-8af6a39d7abb"
   },
   "outputs": [
    {
     "name": "stdout",
     "output_type": "stream",
     "text": [
      "Average length of the confidence intervals: 0.09307821530958306\n",
      "Standard deviation of the confidence intervals' lengths: 0.01646603677540706\n"
     ]
    }
   ],
   "source": [
    "# Example usage:\n",
    "file_path = 'cate_results/cate_conf_intervals_5nn.json'  # Replace with the URL of your JSON file\n",
    "average_length, std_deviation = calculate_confidence_interval_stats_from_file(file_path)\n",
    "\n",
    "if average_length is not None:\n",
    "    print(f\"Average length of the confidence intervals: {average_length}\")\n",
    "    print(f\"Standard deviation of the confidence intervals' lengths: {std_deviation}\")\n",
    "else:\n",
    "    print(\"No valid confidence intervals found in the JSON file.\")"
   ]
  },
  {
   "cell_type": "markdown",
   "metadata": {},
   "source": [
    "### Causal Graphs"
   ]
  },
  {
   "cell_type": "code",
   "execution_count": 4,
   "metadata": {},
   "outputs": [
    {
     "name": "stdout",
     "output_type": "stream",
     "text": [
      "JSON file saved as 'confidence_intervals.json'\n"
     ]
    }
   ],
   "source": [
    "import pandas as pd\n",
    "import json\n",
    "\n",
    "# Load your data\n",
    "results_df = pd.read_csv('results_final.csv')\n",
    "\n",
    "# Initialize the dictionary\n",
    "ci_dict = {}\n",
    "\n",
    "# Iterate over the rows to populate the dictionary\n",
    "for _, row in results_df.iterrows():\n",
    "    treatment1, treatment2 = eval(row['treatment_pair'])  # Convert the pair string to a tuple of integers\n",
    "    ci_lower, ci_upper = row['CI_lower'], row['CI_upper']\n",
    "    \n",
    "    # If treatment1 is not in ci_dict, initialize it\n",
    "    if treatment1 not in ci_dict:\n",
    "        ci_dict[treatment1] = {}\n",
    "        \n",
    "    # Add the confidence interval as a list under treatment2\n",
    "    ci_dict[treatment1][treatment2] = [ci_lower, ci_upper]\n",
    "\n",
    "# Save the dictionary as a JSON file\n",
    "with open('confidence_intervals.json', 'w') as json_file:\n",
    "    json.dump(ci_dict, json_file, indent=4)\n",
    "\n",
    "print(\"JSON file saved as 'confidence_intervals.json'\")\n"
   ]
  },
  {
   "cell_type": "code",
   "execution_count": 5,
   "metadata": {},
   "outputs": [
    {
     "name": "stdout",
     "output_type": "stream",
     "text": [
      "Average length of the confidence intervals: 0.059391261512434165\n",
      "Standard deviation of the confidence intervals' lengths: 0.028876156349595193\n"
     ]
    }
   ],
   "source": [
    "# Example usage:\n",
    "file_path = 'confidence_intervals.json'  # Replace with the URL of your JSON file\n",
    "average_length, std_deviation = calculate_confidence_interval_stats_from_file(file_path)\n",
    "\n",
    "if average_length is not None:\n",
    "    print(f\"Average length of the confidence intervals: {average_length}\")\n",
    "    print(f\"Standard deviation of the confidence intervals' lengths: {std_deviation}\")\n",
    "else:\n",
    "    print(\"No valid confidence intervals found in the JSON file.\")"
   ]
  },
  {
   "cell_type": "markdown",
   "metadata": {
    "id": "T5YieggE6-ko"
   },
   "source": [
    "<h1><u> Get Best Month </h1></u>"
   ]
  },
  {
   "cell_type": "code",
   "execution_count": 7,
   "metadata": {
    "id": "4lIDiRsS6Boz"
   },
   "outputs": [],
   "source": [
    "import json\n",
    "\n",
    "def compare_months_for_best(data):\n",
    "    \"\"\"\n",
    "    Compare each month's CATE values with every other month's CATE values\n",
    "    and determine which month beats the most other months.\n",
    "\n",
    "    :param data: dict, dictionary where keys are months and values are dictionaries of CATE values for other months.\n",
    "    :return: str, the month that beats the most other months.\n",
    "    \"\"\"\n",
    "    # Initialize a dictionary to track how many months each month beats\n",
    "    beats_count = {month: 0 for month in data.keys()}\n",
    "    beats_count['12']=0\n",
    "    # Get the list of months (keys in the data)\n",
    "    months = list(data.keys())\n",
    "\n",
    "    # Compare every pair of months\n",
    "    for month_i in data.keys():\n",
    "        for month_j in data[month_i].keys():\n",
    "            # if i != j:\n",
    "                # month_i = months[i]\n",
    "                # month_j = months[j]\n",
    "\n",
    "                # if month_i in data.keys() and  month_i in data[month_i].keys():\n",
    "                if data[month_i][month_j] < 0:\n",
    "                  beats_count[month_j] += 1\n",
    "                elif data[month_i][month_j] > 0:\n",
    "                  beats_count[month_i] += 1\n",
    "\n",
    "    # Find the month that beats the most other months\n",
    "    best_month = max(beats_count, key=beats_count.get)\n",
    "    return best_month, beats_count\n",
    "\n"
   ]
  },
  {
   "cell_type": "code",
   "execution_count": null,
   "metadata": {
    "colab": {
     "base_uri": "https://localhost:8080/"
    },
    "id": "XWnkpwQc7gXF",
    "outputId": "df9dd08f-93f5-4a20-a9c4-279cd448c523"
   },
   "outputs": [
    {
     "name": "stdout",
     "output_type": "stream",
     "text": [
      "The best month is 10 with the following number of wins against other months:\n",
      "9: 9 wins\n",
      "11: 10 wins\n",
      "10: 11 wins\n",
      "4: 3 wins\n",
      "6: 6 wins\n",
      "5: 7 wins\n",
      "8: 5 wins\n",
      "3: 2 wins\n",
      "1: 2 wins\n",
      "7: 0 wins\n",
      "2: 5 wins\n",
      "12: 6 wins\n"
     ]
    }
   ],
   "source": [
    "file_path = \"cate_results/cate_results_prop.json\"\n",
    "data = read_json_file(file_path)\n",
    "# Call the function to find the best month\n",
    "best_month, beats_count = compare_months_for_best(data)\n",
    "\n",
    "# Print the result\n",
    "print(f\"The best month is {best_month} with the following number of wins against other months:\")\n",
    "for month, count in beats_count.items():\n",
    "    print(f\"{month}: {count} wins\")"
   ]
  },
  {
   "cell_type": "code",
   "execution_count": null,
   "metadata": {
    "colab": {
     "base_uri": "https://localhost:8080/"
    },
    "id": "TxR7zKFd7see",
    "outputId": "4f244c2e-8954-4032-fe26-2aa560023d33"
   },
   "outputs": [
    {
     "name": "stdout",
     "output_type": "stream",
     "text": [
      "The best month is 10 with the following number of wins against other months:\n",
      "9: 9 wins\n",
      "11: 10 wins\n",
      "10: 11 wins\n",
      "4: 3 wins\n",
      "6: 6 wins\n",
      "5: 7 wins\n",
      "8: 5 wins\n",
      "3: 3 wins\n",
      "1: 2 wins\n",
      "7: 0 wins\n",
      "2: 5 wins\n",
      "12: 5 wins\n"
     ]
    }
   ],
   "source": [
    "file_path = \"cate_results/cate_results_1nn.json\"\n",
    "data = read_json_file(file_path)\n",
    "# Call the function to find the best month\n",
    "best_month, beats_count = compare_months_for_best(data)\n",
    "\n",
    "# Print the result\n",
    "print(f\"The best month is {best_month} with the following number of wins against other months:\")\n",
    "for month, count in beats_count.items():\n",
    "    print(f\"{month}: {count} wins\")"
   ]
  },
  {
   "cell_type": "code",
   "execution_count": null,
   "metadata": {
    "colab": {
     "base_uri": "https://localhost:8080/"
    },
    "id": "mXtGRfImG5Wg",
    "outputId": "fdb961fb-4273-4800-e7e5-644ad1ce781e"
   },
   "outputs": [
    {
     "name": "stdout",
     "output_type": "stream",
     "text": [
      "The best month is 2 with the following number of wins against other months:\n",
      "9: 3 wins\n",
      "11: 8 wins\n",
      "10: 5 wins\n",
      "4: 2 wins\n",
      "6: 6 wins\n",
      "5: 6 wins\n",
      "8: 6 wins\n",
      "3: 6 wins\n",
      "1: 3 wins\n",
      "7: 4 wins\n",
      "2: 9 wins\n",
      "12: 8 wins\n"
     ]
    }
   ],
   "source": [
    "file_path = \"cate_results/cate_results_3nn.json\"\n",
    "data = read_json_file(file_path)\n",
    "# Call the function to find the best month\n",
    "best_month, beats_count = compare_months_for_best(data)\n",
    "\n",
    "# Print the result\n",
    "print(f\"The best month is {best_month} with the following number of wins against other months:\")\n",
    "for month, count in beats_count.items():\n",
    "    print(f\"{month}: {count} wins\")"
   ]
  },
  {
   "cell_type": "code",
   "execution_count": null,
   "metadata": {
    "colab": {
     "base_uri": "https://localhost:8080/"
    },
    "id": "6MaugULtG49W",
    "outputId": "40c3c7a0-59b6-4fc5-bf7c-1c307bb6fbaa"
   },
   "outputs": [
    {
     "name": "stdout",
     "output_type": "stream",
     "text": [
      "The best month is 2 with the following number of wins against other months:\n",
      "9: 2 wins\n",
      "11: 5 wins\n",
      "10: 5 wins\n",
      "4: 3 wins\n",
      "6: 5 wins\n",
      "5: 5 wins\n",
      "8: 6 wins\n",
      "3: 7 wins\n",
      "1: 6 wins\n",
      "7: 5 wins\n",
      "2: 9 wins\n",
      "12: 8 wins\n"
     ]
    }
   ],
   "source": [
    "file_path = \"cate_results/cate_results_5nn.json\"\n",
    "data = read_json_file(file_path)\n",
    "# Call the function to find the best month\n",
    "best_month, beats_count = compare_months_for_best(data)\n",
    "\n",
    "# Print the result\n",
    "print(f\"The best month is {best_month} with the following number of wins against other months:\")\n",
    "for month, count in beats_count.items():\n",
    "    print(f\"{month}: {count} wins\")"
   ]
  },
  {
   "cell_type": "markdown",
   "metadata": {},
   "source": [
    "### Causal Graphs"
   ]
  },
  {
   "cell_type": "code",
   "execution_count": 9,
   "metadata": {},
   "outputs": [
    {
     "name": "stdout",
     "output_type": "stream",
     "text": [
      "JSON file saved as 'ate_values.json'\n"
     ]
    }
   ],
   "source": [
    "# Initialize the dictionary\n",
    "ate_dict = {}\n",
    "\n",
    "# Iterate over the rows to populate the dictionary\n",
    "for _, row in results_df.iterrows():\n",
    "    treatment1, treatment2 = eval(row['treatment_pair'])  # Convert the pair string to a tuple of integers\n",
    "    ate_value = row['ATE']\n",
    "    \n",
    "    # If treatment1 is not in ate_dict, initialize it\n",
    "    if treatment1 not in ate_dict:\n",
    "        ate_dict[treatment1] = {}\n",
    "        \n",
    "    # Add the ATE value under treatment2\n",
    "    ate_dict[treatment1][treatment2] = ate_value\n",
    "\n",
    "# Save the dictionary as a JSON file\n",
    "with open('ate_values.json', 'w') as json_file:\n",
    "    json.dump(ate_dict, json_file, indent=4)\n",
    "\n",
    "print(\"JSON file saved as 'ate_values.json'\")\n"
   ]
  },
  {
   "cell_type": "code",
   "execution_count": 10,
   "metadata": {},
   "outputs": [
    {
     "name": "stdout",
     "output_type": "stream",
     "text": [
      "The best month is 9 with the following number of wins against other months:\n",
      "9: 10 wins\n",
      "11: 10 wins\n",
      "10: 10 wins\n",
      "4: 4 wins\n",
      "6: 7 wins\n",
      "5: 4 wins\n",
      "8: 8 wins\n",
      "3: 4 wins\n",
      "1: 4 wins\n",
      "7: 1 wins\n",
      "2: 4 wins\n",
      "12: 0 wins\n"
     ]
    }
   ],
   "source": [
    "file_path = \"ate_values.json\"\n",
    "data = read_json_file(file_path)\n",
    "# Call the function to find the best month\n",
    "best_month, beats_count = compare_months_for_best(data)\n",
    "\n",
    "# Print the result\n",
    "print(f\"The best month is {best_month} with the following number of wins against other months:\")\n",
    "for month, count in beats_count.items():\n",
    "    print(f\"{month}: {count} wins\")"
   ]
  }
 ],
 "metadata": {
  "colab": {
   "provenance": []
  },
  "kernelspec": {
   "display_name": "Python 3",
   "name": "python3"
  },
  "language_info": {
   "codemirror_mode": {
    "name": "ipython",
    "version": 3
   },
   "file_extension": ".py",
   "mimetype": "text/x-python",
   "name": "python",
   "nbconvert_exporter": "python",
   "pygments_lexer": "ipython3",
   "version": "3.9.13"
  }
 },
 "nbformat": 4,
 "nbformat_minor": 0
}
